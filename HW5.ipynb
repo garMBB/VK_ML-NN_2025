{
 "cells": [
  {
   "cell_type": "code",
   "execution_count": 2,
   "id": "12cab47c",
   "metadata": {},
   "outputs": [],
   "source": [
    "import numpy as np\n",
    "from sklearn.model_selection import train_test_split\n",
    "import matplotlib.pyplot as plt\n",
    "import torch\n",
    "from torch import nn\n",
    "import torch.nn.functional as F\n",
    "from torch.autograd import Variable\n",
    "from torch.utils.data import DataLoader\n",
    "from torchvision.datasets import MNIST\n",
    "from torchvision import transforms\n",
    "%matplotlib inline"
   ]
  },
  {
   "cell_type": "code",
   "execution_count": 4,
   "id": "fb7467dc",
   "metadata": {},
   "outputs": [
    {
     "name": "stderr",
     "output_type": "stream",
     "text": [
      "100.0%\n",
      "100.0%\n",
      "100.0%\n",
      "100.0%\n"
     ]
    }
   ],
   "source": [
    "to_numpy = lambda x: x.numpy()\n",
    "transform = transforms.Compose([\n",
    "                       transforms.ToTensor(),\n",
    "                       transforms.Normalize((0.1307,), (0.3081,))\n",
    "                    ])\n",
    "train_dataset = MNIST('.', train=True, download=True, transform=transform)\n",
    "test_dataset = MNIST('.', train=False, transform=transform)\n",
    "\n",
    "train_loader = DataLoader(train_dataset, batch_size=128, shuffle=True)\n",
    "test_loader = DataLoader(test_dataset, batch_size=128, shuffle=True)"
   ]
  },
  {
   "cell_type": "code",
   "execution_count": 5,
   "id": "c0e996ea",
   "metadata": {},
   "outputs": [],
   "source": [
    "images_train, labels_train = next(iter(train_loader))"
   ]
  },
  {
   "cell_type": "code",
   "execution_count": 6,
   "id": "d410385d",
   "metadata": {},
   "outputs": [],
   "source": [
    "def init_layer(layer, mean=0, std=1):\n",
    "    # Тут надо быть аккуратным — можно случайно создать копию и менять значения у копии\n",
    "    weight = layer.state_dict()['weight']\n",
    "    bias = layer.state_dict()['bias']\n",
    "    bias.zero_()\n",
    "    weight.normal_(mean=0, std=std)\n",
    "\n",
    "def forward_hook(self, input_, output):\n",
    "    std = input_[0].std().item()\n",
    "    print('forward', std)\n",
    "\n",
    "def backward_hook(self, grad_input, grad_output):\n",
    "    std = grad_input[0].std().item()\n",
    "    print('backward', std)"
   ]
  },
  {
   "cell_type": "code",
   "execution_count": 7,
   "id": "080fc335",
   "metadata": {},
   "outputs": [],
   "source": [
    "layer_1 = nn.Linear(28*28, 500)\n",
    "layer_2 = nn.Linear(500, 10)\n",
    "\n",
    "layer_1.register_forward_hook(forward_hook)\n",
    "layer_2.register_forward_hook(forward_hook)\n",
    "\n",
    "layer_1.register_backward_hook(backward_hook)\n",
    "layer_2.register_backward_hook(backward_hook)\n",
    "\n",
    "std_Xav1 = (6 / (28*28 + 500)) ** 0.5\n",
    "std_Xav2 = (6 / (500 + 10)) ** 0.5\n",
    "init_layer(layer_1, -std_Xav1, std_Xav1)\n",
    "init_layer(layer_2, std_Xav2, std_Xav2)"
   ]
  },
  {
   "cell_type": "code",
   "execution_count": 15,
   "id": "a6932651",
   "metadata": {},
   "outputs": [
    {
     "name": "stdout",
     "output_type": "stream",
     "text": [
      "forward 1.0042657852172852\n",
      "forward 0.7838308811187744\n",
      "backward 0.03333333507180214\n",
      "backward 0.014952319674193859\n"
     ]
    }
   ],
   "source": [
    "network = nn.Sequential(\n",
    "    layer_1,\n",
    "    nn.Tanh(),\n",
    "    layer_2\n",
    ")\n",
    "\n",
    "n_objects = 100\n",
    "X = images_train[:n_objects].view(n_objects, -1).data\n",
    "y = labels_train[:n_objects].data\n",
    "activations = network(X)\n",
    "loss_fn = torch.nn.NLLLoss()\n",
    "optimizer = torch.optim.Adam(network.parameters(), lr=0.001)\n",
    "loss = loss_fn(activations, y)\n",
    "loss.backward()"
   ]
  },
  {
   "cell_type": "markdown",
   "id": "b2b129ce",
   "metadata": {},
   "source": [
    "При инициализации весов методом **He** в семинаре получились следующие значения:\n",
    "forward 0.9945185780525208\n",
    "forward 0.12716735899448395\n",
    "backward 0.019999997690320015\n",
    "backward 0.038504574447870255\n",
    "В итоге Xavier справился лучше с форвардом чем He, но backward изменения практически неощутимы"
   ]
  },
  {
   "cell_type": "code",
   "execution_count": 25,
   "id": "80c99d92",
   "metadata": {},
   "outputs": [],
   "source": [
    "class Dropout(nn.Module):\n",
    "    def __init__(self, p=0.5):\n",
    "        super(Dropout, self).__init__()\n",
    "        self.p = p\n",
    "\n",
    "    def forward(self, x):\n",
    "        mask = torch.empty(X.shape).uniform_(0, 1).type(torch.FloatTensor)\n",
    "        if self.training:\n",
    "            mask = torch.where(mask > self.p, 1, 0)\n",
    "        else:\n",
    "            mask = torch.where(mask > self.p, 1, 1 - self.p)\n",
    "\n",
    "        return x * mask"
   ]
  },
  {
   "cell_type": "code",
   "execution_count": 26,
   "id": "98a4f6a2",
   "metadata": {},
   "outputs": [],
   "source": [
    "class DropConnect(nn.Module):\n",
    "    def __init__(self, input_dim, output_dim, p=0.5):\n",
    "        super(DropConnect, self).__init__()\n",
    "        self.linear = nn.Linear(input_dim, output_dim)\n",
    "        self.p = p\n",
    "    \n",
    "    def forward(self, x):\n",
    "        if self.training:\n",
    "            mask = torch.empty_like(self.linear.weight).bernoulli_(1 - self.p).type(torch.FloatTensor)\n",
    "            mask = mask / (1 - self.p)\n",
    "        else:\n",
    "            mask = torch.ones_like(self.linear.weight) * (1 - self.p)\n",
    "        mask = mask.requires_grad_(False)\n",
    "        mask = mask.data\n",
    "        output = F.linear(x, self.linear.weight * mask, self.linear.bias)\n",
    "        return output"
   ]
  },
  {
   "cell_type": "code",
   "execution_count": 27,
   "id": "c3cfc73a",
   "metadata": {},
   "outputs": [],
   "source": [
    "class TestNetwork(nn.Module):\n",
    "    def __init__(self, final_part):\n",
    "        super().__init__()\n",
    "\n",
    "        channels = 1\n",
    "\n",
    "        self.conv_layers = nn.Sequential(\n",
    "            nn.Conv2d(channels, 2, 3, padding=1),\n",
    "            nn.MaxPool2d(2),\n",
    "            nn.ReLU(),\n",
    "            nn.Conv2d(2, 4, 3, padding=1),\n",
    "            nn.MaxPool2d(2),\n",
    "            nn.ReLU(),\n",
    "        )\n",
    "\n",
    "        #input_size = 7 * 7 * 4 = 196\n",
    "        self.flatten = nn.Flatten()\n",
    "\n",
    "        self.final_part = final_part\n",
    "\n",
    "        self.log_softmax = nn.LogSoftmax(1)\n",
    "\n",
    "    def forward(self, x):\n",
    "        x = self.conv_layers(x)\n",
    "        x = self.flatten(x)\n",
    "        x = self.final_part(x)\n",
    "        return self.log_softmax(x)"
   ]
  },
  {
   "cell_type": "code",
   "execution_count": 31,
   "id": "faa604c4",
   "metadata": {},
   "outputs": [],
   "source": [
    "layers = [\n",
    "    nn.Linear(196, 150),\n",
    "    nn.ReLU(),\n",
    "    nn.Dropout(),\n",
    "    nn.Linear(150, 50),\n",
    "    nn.ReLU(),\n",
    "    nn.Dropout(),\n",
    "    nn.Linear(50, 10)\n",
    "]"
   ]
  },
  {
   "cell_type": "code",
   "execution_count": 32,
   "id": "9e519a25",
   "metadata": {},
   "outputs": [],
   "source": [
    "network = TestNetwork(nn.Sequential(*layers))\n",
    "optimizer = torch.optim.Adam(network.parameters(), lr=0.001)\n",
    "loss_fn = torch.nn.NLLLoss()"
   ]
  },
  {
   "cell_type": "code",
   "execution_count": 33,
   "id": "ea72f280",
   "metadata": {},
   "outputs": [
    {
     "name": "stdout",
     "output_type": "stream",
     "text": [
      "Train Epoch: 0 [0/60000 (0%)]\tLoss: 2.314474\n",
      "Train Epoch: 0 [12800/60000 (21%)]\tLoss: 1.052246\n",
      "Train Epoch: 0 [25600/60000 (43%)]\tLoss: 0.499934\n",
      "Train Epoch: 0 [38400/60000 (64%)]\tLoss: 0.500542\n",
      "Train Epoch: 0 [51200/60000 (85%)]\tLoss: 0.484154\n",
      "Test Epoch: 0\tLoss: 0.198261\n",
      "Train Epoch: 1 [0/60000 (0%)]\tLoss: 0.302967\n",
      "Train Epoch: 1 [12800/60000 (21%)]\tLoss: 0.395147\n",
      "Train Epoch: 1 [25600/60000 (43%)]\tLoss: 0.243073\n",
      "Train Epoch: 1 [38400/60000 (64%)]\tLoss: 0.322839\n",
      "Train Epoch: 1 [51200/60000 (85%)]\tLoss: 0.229096\n",
      "Test Epoch: 1\tLoss: 0.138520\n",
      "Train Epoch: 2 [0/60000 (0%)]\tLoss: 0.287380\n",
      "Train Epoch: 2 [12800/60000 (21%)]\tLoss: 0.220397\n",
      "Train Epoch: 2 [25600/60000 (43%)]\tLoss: 0.321338\n",
      "Train Epoch: 2 [38400/60000 (64%)]\tLoss: 0.426671\n",
      "Train Epoch: 2 [51200/60000 (85%)]\tLoss: 0.246256\n",
      "Test Epoch: 2\tLoss: 0.108665\n",
      "Train Epoch: 3 [0/60000 (0%)]\tLoss: 0.213053\n",
      "Train Epoch: 3 [12800/60000 (21%)]\tLoss: 0.172027\n",
      "Train Epoch: 3 [25600/60000 (43%)]\tLoss: 0.294702\n",
      "Train Epoch: 3 [38400/60000 (64%)]\tLoss: 0.242918\n",
      "Train Epoch: 3 [51200/60000 (85%)]\tLoss: 0.167967\n",
      "Test Epoch: 3\tLoss: 0.108698\n",
      "Train Epoch: 4 [0/60000 (0%)]\tLoss: 0.330626\n",
      "Train Epoch: 4 [12800/60000 (21%)]\tLoss: 0.278217\n",
      "Train Epoch: 4 [25600/60000 (43%)]\tLoss: 0.205105\n",
      "Train Epoch: 4 [38400/60000 (64%)]\tLoss: 0.212310\n",
      "Train Epoch: 4 [51200/60000 (85%)]\tLoss: 0.214197\n",
      "Test Epoch: 4\tLoss: 0.091526\n",
      "Train Epoch: 5 [0/60000 (0%)]\tLoss: 0.161337\n",
      "Train Epoch: 5 [12800/60000 (21%)]\tLoss: 0.143110\n",
      "Train Epoch: 5 [25600/60000 (43%)]\tLoss: 0.121096\n",
      "Train Epoch: 5 [38400/60000 (64%)]\tLoss: 0.133912\n",
      "Train Epoch: 5 [51200/60000 (85%)]\tLoss: 0.136530\n",
      "Test Epoch: 5\tLoss: 0.089365\n",
      "Train Epoch: 6 [0/60000 (0%)]\tLoss: 0.126540\n",
      "Train Epoch: 6 [12800/60000 (21%)]\tLoss: 0.264081\n",
      "Train Epoch: 6 [25600/60000 (43%)]\tLoss: 0.078680\n",
      "Train Epoch: 6 [38400/60000 (64%)]\tLoss: 0.073668\n",
      "Train Epoch: 6 [51200/60000 (85%)]\tLoss: 0.195031\n",
      "Test Epoch: 6\tLoss: 0.082466\n",
      "Train Epoch: 7 [0/60000 (0%)]\tLoss: 0.137174\n",
      "Train Epoch: 7 [12800/60000 (21%)]\tLoss: 0.169195\n",
      "Train Epoch: 7 [25600/60000 (43%)]\tLoss: 0.098831\n",
      "Train Epoch: 7 [38400/60000 (64%)]\tLoss: 0.189187\n",
      "Train Epoch: 7 [51200/60000 (85%)]\tLoss: 0.145121\n",
      "Test Epoch: 7\tLoss: 0.085165\n",
      "Train Epoch: 8 [0/60000 (0%)]\tLoss: 0.307204\n",
      "Train Epoch: 8 [12800/60000 (21%)]\tLoss: 0.164287\n",
      "Train Epoch: 8 [25600/60000 (43%)]\tLoss: 0.085843\n",
      "Train Epoch: 8 [38400/60000 (64%)]\tLoss: 0.257082\n",
      "Train Epoch: 8 [51200/60000 (85%)]\tLoss: 0.180121\n",
      "Test Epoch: 8\tLoss: 0.073819\n",
      "Train Epoch: 9 [0/60000 (0%)]\tLoss: 0.100877\n",
      "Train Epoch: 9 [12800/60000 (21%)]\tLoss: 0.108035\n",
      "Train Epoch: 9 [25600/60000 (43%)]\tLoss: 0.168357\n",
      "Train Epoch: 9 [38400/60000 (64%)]\tLoss: 0.129570\n",
      "Train Epoch: 9 [51200/60000 (85%)]\tLoss: 0.089868\n",
      "Test Epoch: 9\tLoss: 0.072149\n"
     ]
    }
   ],
   "source": [
    "for epoch in range(10):\n",
    "    network.train()\n",
    "    for batch_idx, (images_train, labels_train) in enumerate(train_loader):\n",
    "        optimizer.zero_grad()\n",
    "        X = images_train.data\n",
    "        y = labels_train.data\n",
    "        output = network(X)\n",
    "        loss = loss_fn(output, y)\n",
    "        loss.backward()\n",
    "        optimizer.step()\n",
    "\n",
    "        if batch_idx % 100 == 0:\n",
    "            print('Train Epoch: {} [{}/{} ({:.0f}%)]\\tLoss: {:.6f}'.format(\n",
    "            epoch, batch_idx * len(X), len(train_loader.dataset),\n",
    "            100. * batch_idx / len(train_loader), loss.item()))\n",
    "\n",
    "    network.eval()\n",
    "    losses = []\n",
    "    for batch_idx, (images_test, labels_test) in enumerate(test_loader):\n",
    "        X = images_test.data\n",
    "        y = labels_test.data\n",
    "        output = network(X)\n",
    "        loss = loss_fn(output, y)\n",
    "\n",
    "        losses.append(loss.item())\n",
    "\n",
    "    print('Test Epoch: {}\\tLoss: {:.6f}'.format(\n",
    "            epoch, np.mean(losses)))\n"
   ]
  },
  {
   "cell_type": "code",
   "execution_count": 35,
   "id": "7bc78908",
   "metadata": {},
   "outputs": [],
   "source": [
    "DropOut_los = losses"
   ]
  },
  {
   "cell_type": "code",
   "execution_count": 36,
   "id": "7c19e9e9",
   "metadata": {},
   "outputs": [],
   "source": [
    "layers = [\n",
    "    DropConnect(196, 150),\n",
    "    nn.ReLU(),\n",
    "    DropConnect(150, 50),\n",
    "    nn.ReLU(),\n",
    "    nn.Linear(50, 10)\n",
    "]\n",
    "\n",
    "network = TestNetwork(nn.Sequential(*layers))\n",
    "optimizer = torch.optim.Adam(network.parameters(), lr=0.001)\n",
    "loss_fn = torch.nn.NLLLoss()"
   ]
  },
  {
   "cell_type": "code",
   "execution_count": 38,
   "id": "1b24dbe8",
   "metadata": {},
   "outputs": [
    {
     "name": "stdout",
     "output_type": "stream",
     "text": [
      "Train Epoch: 0 [0/60000 (0%)]\tLoss: 2.316138\n",
      "Train Epoch: 0 [12800/60000 (21%)]\tLoss: 1.019516\n",
      "Train Epoch: 0 [25600/60000 (43%)]\tLoss: 0.462464\n",
      "Train Epoch: 0 [38400/60000 (64%)]\tLoss: 0.561608\n",
      "Train Epoch: 0 [51200/60000 (85%)]\tLoss: 0.440582\n",
      "Test Epoch: 0\tLoss: 0.842350\n",
      "Train Epoch: 1 [0/60000 (0%)]\tLoss: 0.270664\n",
      "Train Epoch: 1 [12800/60000 (21%)]\tLoss: 0.328609\n",
      "Train Epoch: 1 [25600/60000 (43%)]\tLoss: 0.200235\n",
      "Train Epoch: 1 [38400/60000 (64%)]\tLoss: 0.258949\n",
      "Train Epoch: 1 [51200/60000 (85%)]\tLoss: 0.205613\n",
      "Test Epoch: 1\tLoss: 0.748747\n",
      "Train Epoch: 2 [0/60000 (0%)]\tLoss: 0.293555\n",
      "Train Epoch: 2 [12800/60000 (21%)]\tLoss: 0.319984\n",
      "Train Epoch: 2 [25600/60000 (43%)]\tLoss: 0.189328\n",
      "Train Epoch: 2 [38400/60000 (64%)]\tLoss: 0.245897\n",
      "Train Epoch: 2 [51200/60000 (85%)]\tLoss: 0.240909\n",
      "Test Epoch: 2\tLoss: 0.646753\n",
      "Train Epoch: 3 [0/60000 (0%)]\tLoss: 0.260530\n",
      "Train Epoch: 3 [12800/60000 (21%)]\tLoss: 0.132448\n",
      "Train Epoch: 3 [25600/60000 (43%)]\tLoss: 0.189943\n",
      "Train Epoch: 3 [38400/60000 (64%)]\tLoss: 0.345848\n",
      "Train Epoch: 3 [51200/60000 (85%)]\tLoss: 0.219594\n",
      "Test Epoch: 3\tLoss: 0.575927\n",
      "Train Epoch: 4 [0/60000 (0%)]\tLoss: 0.121966\n",
      "Train Epoch: 4 [12800/60000 (21%)]\tLoss: 0.154796\n",
      "Train Epoch: 4 [25600/60000 (43%)]\tLoss: 0.200364\n",
      "Train Epoch: 4 [38400/60000 (64%)]\tLoss: 0.167584\n",
      "Train Epoch: 4 [51200/60000 (85%)]\tLoss: 0.089338\n",
      "Test Epoch: 4\tLoss: 0.527242\n",
      "Train Epoch: 5 [0/60000 (0%)]\tLoss: 0.087752\n",
      "Train Epoch: 5 [12800/60000 (21%)]\tLoss: 0.067424\n",
      "Train Epoch: 5 [25600/60000 (43%)]\tLoss: 0.154429\n",
      "Train Epoch: 5 [38400/60000 (64%)]\tLoss: 0.108672\n",
      "Train Epoch: 5 [51200/60000 (85%)]\tLoss: 0.129682\n",
      "Test Epoch: 5\tLoss: 0.556828\n",
      "Train Epoch: 6 [0/60000 (0%)]\tLoss: 0.065485\n",
      "Train Epoch: 6 [12800/60000 (21%)]\tLoss: 0.133906\n",
      "Train Epoch: 6 [25600/60000 (43%)]\tLoss: 0.204513\n",
      "Train Epoch: 6 [38400/60000 (64%)]\tLoss: 0.173703\n",
      "Train Epoch: 6 [51200/60000 (85%)]\tLoss: 0.056467\n",
      "Test Epoch: 6\tLoss: 0.514813\n",
      "Train Epoch: 7 [0/60000 (0%)]\tLoss: 0.107018\n",
      "Train Epoch: 7 [12800/60000 (21%)]\tLoss: 0.122415\n",
      "Train Epoch: 7 [25600/60000 (43%)]\tLoss: 0.149212\n",
      "Train Epoch: 7 [38400/60000 (64%)]\tLoss: 0.244645\n",
      "Train Epoch: 7 [51200/60000 (85%)]\tLoss: 0.134899\n",
      "Test Epoch: 7\tLoss: 0.513336\n",
      "Train Epoch: 8 [0/60000 (0%)]\tLoss: 0.074564\n",
      "Train Epoch: 8 [12800/60000 (21%)]\tLoss: 0.068107\n",
      "Train Epoch: 8 [25600/60000 (43%)]\tLoss: 0.042714\n",
      "Train Epoch: 8 [38400/60000 (64%)]\tLoss: 0.212282\n",
      "Train Epoch: 8 [51200/60000 (85%)]\tLoss: 0.129525\n",
      "Test Epoch: 8\tLoss: 0.483463\n",
      "Train Epoch: 9 [0/60000 (0%)]\tLoss: 0.060648\n",
      "Train Epoch: 9 [12800/60000 (21%)]\tLoss: 0.207364\n",
      "Train Epoch: 9 [25600/60000 (43%)]\tLoss: 0.051017\n",
      "Train Epoch: 9 [38400/60000 (64%)]\tLoss: 0.180787\n",
      "Train Epoch: 9 [51200/60000 (85%)]\tLoss: 0.041712\n",
      "Test Epoch: 9\tLoss: 0.480327\n"
     ]
    }
   ],
   "source": [
    "for epoch in range(10):\n",
    "    network.train()\n",
    "    for batch_idx, (images_train, labels_train) in enumerate(train_loader):\n",
    "        optimizer.zero_grad()\n",
    "        X = images_train.data\n",
    "        y = labels_train.data\n",
    "        output = network(X)\n",
    "        loss = loss_fn(output, y)\n",
    "        loss.backward()\n",
    "        optimizer.step()\n",
    "\n",
    "        if batch_idx % 100 == 0:\n",
    "            print('Train Epoch: {} [{}/{} ({:.0f}%)]\\tLoss: {:.6f}'.format(\n",
    "            epoch, batch_idx * len(X), len(train_loader.dataset),\n",
    "            100. * batch_idx / len(train_loader), loss.item()))\n",
    "\n",
    "    network.eval()\n",
    "    losses = []\n",
    "    for batch_idx, (images_test, labels_test) in enumerate(test_loader):\n",
    "        X = images_test.data\n",
    "        y = labels_test.data\n",
    "        output = network(X)\n",
    "        loss = loss_fn(output, y)\n",
    "\n",
    "        losses.append(loss.item())\n",
    "\n",
    "    print('Test Epoch: {}\\tLoss: {:.6f}'.format(\n",
    "            epoch, np.mean(losses)))\n"
   ]
  },
  {
   "cell_type": "code",
   "execution_count": 39,
   "id": "5bfca86f",
   "metadata": {},
   "outputs": [],
   "source": [
    "DropCon_los = losses"
   ]
  },
  {
   "cell_type": "code",
   "execution_count": 48,
   "id": "a8ab95cd",
   "metadata": {},
   "outputs": [
    {
     "name": "stdout",
     "output_type": "stream",
     "text": [
      "[0.5013185143470764, 0.5537914633750916, 0.4833216071128845, 0.46736419200897217, 0.5037951469421387, 0.505046010017395, 0.4986209273338318, 0.4851219952106476, 0.48526498675346375, 0.47182056307792664, 0.4701075553894043, 0.45345452427864075, 0.44199058413505554, 0.4839569926261902, 0.4786187410354614, 0.48620590567588806, 0.4882945716381073, 0.4545374810695648, 0.5085354447364807, 0.467609167098999, 0.4784533381462097, 0.5049139261245728, 0.4398655593395233, 0.48418518900871277, 0.49781960248947144, 0.5366194248199463, 0.4673007130622864, 0.443209171295166, 0.5127975344657898, 0.48468929529190063, 0.4938724935054779, 0.4987475574016571, 0.4555152952671051, 0.499927818775177, 0.49714604020118713, 0.44498202204704285, 0.5465871691703796, 0.46299728751182556, 0.5633307099342346, 0.484755277633667, 0.48842155933380127, 0.5300850868225098, 0.5124939680099487, 0.4704361855983734, 0.47040417790412903, 0.45382988452911377, 0.4812477231025696, 0.4815031588077545, 0.49755769968032837, 0.4872272312641144, 0.49453628063201904, 0.42985838651657104, 0.4972589313983917, 0.46249303221702576, 0.4388680160045624, 0.4189883768558502, 0.4578317403793335, 0.4401470124721527, 0.4694693982601166, 0.4922049939632416, 0.46293532848358154, 0.48142144083976746, 0.4922536611557007, 0.4766440987586975, 0.47286003828048706, 0.3896547257900238, 0.484999418258667, 0.41530641913414, 0.47414928674697876, 0.5016279220581055, 0.4592626988887787, 0.546231210231781, 0.4699746370315552, 0.5161729454994202, 0.4610667824745178, 0.44192472100257874, 0.47431379556655884, 0.45471101999282837, 0.509005069732666]\n"
     ]
    }
   ],
   "source": [
    "print(DropCon_los)"
   ]
  },
  {
   "cell_type": "code",
   "execution_count": 53,
   "id": "4c1b88e3",
   "metadata": {},
   "outputs": [
    {
     "data": {
      "image/png": "[encoded data removed]",
      "text/plain": [
       "<Figure size 640x480 with 1 Axes>"
      ]
     },
     "metadata": {},
     "output_type": "display_data"
    }
   ],
   "source": [
    "plt.plot(DropOut_los, label='DropOut val loss')\n",
    "plt.plot( DropCon_los, label='DropConnect val loss')\n",
    "plt.xlabel('Epoch')\n",
    "plt.ylabel('Loss')\n",
    "plt.title('Сравнение DropOut и DropConnection')\n",
    "plt.legend()\n",
    "plt.grid()"
   ]
  },
  {
   "cell_type": "code",
   "execution_count": null,
   "id": "a2b3c9e0",
   "metadata": {},
   "outputs": [],
   "source": []
  }
 ],
 "metadata": {
  "kernelspec": {
   "display_name": "Python 3",
   "language": "python",
   "name": "python3"
  },
  "language_info": {
   "codemirror_mode": {
    "name": "ipython",
    "version": 3
   },
   "file_extension": ".py",
   "mimetype": "text/x-python",
   "name": "python",
   "nbconvert_exporter": "python",
   "pygments_lexer": "ipython3",
   "version": "3.12.10"
  }
 },
 "nbformat": 4,
 "nbformat_minor": 5
}
