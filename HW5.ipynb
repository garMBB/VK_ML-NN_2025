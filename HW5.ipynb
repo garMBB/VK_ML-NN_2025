{
 "cells": [
  {
   "cell_type": "code",
   "execution_count": 13,
   "id": "12cab47c",
   "metadata": {},
   "outputs": [],
   "source": [
    "import numpy as np\n",
    "from sklearn.model_selection import train_test_split\n",
    "import matplotlib.pyplot as plt\n",
    "import torch\n",
    "from torch import nn\n",
    "import torch.nn.functional as F\n",
    "from torch.autograd import Variable\n",
    "from torch.utils.data import DataLoader\n",
    "from torchvision.datasets import MNIST\n",
    "from torchvision import transforms\n",
    "%matplotlib inline"
   ]
  },
  {
   "cell_type": "code",
   "execution_count": 14,
   "id": "fb7467dc",
   "metadata": {},
   "outputs": [
    {
     "name": "stderr",
     "output_type": "stream",
     "text": [
      "100.0%\n",
      "100.0%\n",
      "100.0%\n",
      "100.0%\n"
     ]
    }
   ],
   "source": [
    "to_numpy = lambda x: x.numpy()\n",
    "transform = transforms.Compose([\n",
    "                       transforms.ToTensor(),\n",
    "                       transforms.Normalize((0.1307,), (0.3081,))\n",
    "                    ])\n",
    "train_dataset = MNIST('.', train=True, download=True, transform=transform)\n",
    "test_dataset = MNIST('.', train=False, transform=transform)\n",
    "\n",
    "train_loader = DataLoader(train_dataset, batch_size=128, shuffle=True)\n",
    "test_loader = DataLoader(test_dataset, batch_size=128, shuffle=True)"
   ]
  },
  {
   "cell_type": "code",
   "execution_count": null,
   "id": "c0e996ea",
   "metadata": {},
   "outputs": [],
   "source": [
    "images_train, labels_train = next(iter(train_loader))"
   ]
  },
  {
   "cell_type": "code",
   "execution_count": 16,
   "id": "d410385d",
   "metadata": {},
   "outputs": [],
   "source": [
    "def init_layer(layer, mean=0, std=1):\n",
    "    # Тут надо быть аккуратным — можно случайно создать копию и менять значения у копии\n",
    "    weight = layer.state_dict()['weight']\n",
    "    bias = layer.state_dict()['bias']\n",
    "    bias.zero_()\n",
    "    weight.normal_(mean=0, std=std)\n",
    "\n",
    "def forward_hook(self, input_, output):\n",
    "    std = input_[0].std().item()\n",
    "    print('forward', std)\n",
    "\n",
    "def backward_hook(self, grad_input, grad_output):\n",
    "    std = grad_input[0].std().item()\n",
    "    print('backward', std)"
   ]
  },
  {
   "cell_type": "code",
   "execution_count": 21,
   "id": "080fc335",
   "metadata": {},
   "outputs": [],
   "source": [
    "layer_1 = nn.Linear(28*28, 500)\n",
    "layer_2 = nn.Linear(500, 10)\n",
    "\n",
    "layer_1.register_forward_hook(forward_hook)\n",
    "layer_2.register_forward_hook(forward_hook)\n",
    "\n",
    "layer_1.register_backward_hook(backward_hook)\n",
    "layer_2.register_backward_hook(backward_hook)\n",
    "\n",
    "std_Xav1 = (6 / (28*28 + 500)) ** 0.5\n",
    "std_Xav2 = (6 / (500 + 10)) ** 0.5\n",
    "init_layer(layer_1, -std_Xav1, std_Xav1)\n",
    "init_layer(layer_2, std_Xav2, std_Xav2)"
   ]
  },
  {
   "cell_type": "code",
   "execution_count": 25,
   "id": "a6932651",
   "metadata": {},
   "outputs": [
    {
     "name": "stdout",
     "output_type": "stream",
     "text": [
      "forward 0.9981620907783508\n",
      "forward 0.7789945006370544\n",
      "backward 0.027487371116876602\n",
      "backward 0.015442772768437862\n"
     ]
    }
   ],
   "source": [
    "network = nn.Sequential(\n",
    "    layer_1,\n",
    "    nn.Tanh(),\n",
    "    layer_2\n",
    ")\n",
    "\n",
    "n_objects = 100\n",
    "X = images_train[:n_objects].view(n_objects, -1).data\n",
    "y = labels_train[:n_objects].data\n",
    "activations = network(X)\n",
    "loss_fn = torch.nn.NLLLoss()\n",
    "optimizer = torch.optim.Adam(network.parameters(), lr=0.001)\n",
    "loss = loss_fn(activations, y)\n",
    "loss.backward()"
   ]
  },
  {
   "cell_type": "markdown",
   "id": "b2b129ce",
   "metadata": {},
   "source": [
    "При инициализации весов методом **He** в семинаре получились следующие значения:\n",
    "forward 0.9945185780525208\n",
    "forward 0.12716735899448395\n",
    "backward 0.019999997690320015\n",
    "backward 0.038504574447870255\n",
    "В итоге Xavier справился лучше с форвардом чем He, но backward изменения практически неощутимы"
   ]
  },
  {
   "cell_type": "code",
   "execution_count": 27,
   "id": "80c99d92",
   "metadata": {},
   "outputs": [],
   "source": [
    "class Dropout(nn.Module):\n",
    "    def __init__(self, p=0.5):\n",
    "        super(Dropout, self).__init__()\n",
    "        self.p = p\n",
    "\n",
    "    def forward(self, x):\n",
    "        mask = torch.empty(X.shape).uniform_(0, 1).type(torch.FloatTensor)\n",
    "        if self.training:\n",
    "            mask = torch.where(mask > self.p, 1, 0)\n",
    "        else:\n",
    "            mask = torch.where(mask > self.p, 1, 1 - self.p)\n",
    "\n",
    "        return x * mask"
   ]
  },
  {
   "cell_type": "code",
   "execution_count": 29,
   "id": "98a4f6a2",
   "metadata": {},
   "outputs": [],
   "source": [
    "class DropConnect(nn.Module):\n",
    "    def __init__(self, input_dim, output_dim):\n",
    "        super(DropConnect, self).__init__()\n",
    "        self.linear = nn.Linear(input_dim, output_dim)\n",
    "        self.p = p\n",
    "    \n",
    "    def forward(self, x):\n",
    "        if self.training:\n",
    "            mask = torch.empty_like(self.linear.weight).bernoulli_(1 - self.p).type(torch.FloatTensor)\n",
    "            mask = mask / (1 - self.p)\n",
    "        else:\n",
    "            mask = torch.ones_like(self.linear.weight) * (1 - self.p)\n",
    "        mask = mask.requires_grad_(False)\n",
    "        mask = mask.data\n",
    "        output = F.linear(x, self.linear.weight * mask, self.linear.bias)\n",
    "        return output"
   ]
  }
 ],
 "metadata": {
  "kernelspec": {
   "display_name": "Python 3",
   "language": "python",
   "name": "python3"
  },
  "language_info": {
   "codemirror_mode": {
    "name": "ipython",
    "version": 3
   },
   "file_extension": ".py",
   "mimetype": "text/x-python",
   "name": "python",
   "nbconvert_exporter": "python",
   "pygments_lexer": "ipython3",
   "version": "3.12.10"
  }
 },
 "nbformat": 4,
 "nbformat_minor": 5
}
