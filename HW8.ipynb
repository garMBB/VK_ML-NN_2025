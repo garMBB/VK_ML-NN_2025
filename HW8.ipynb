{
  "nbformat": 4,
  "nbformat_minor": 0,
  "metadata": {
    "colab": {
      "provenance": [],
      "gpuType": "T4",
      "authorship_tag": "ABX9TyPerNik5hDFN/lWIQEIdkmg"
    },
    "kernelspec": {
      "name": "python3",
      "display_name": "Python 3"
    },
    "language_info": {
      "name": "python"
    },
    "accelerator": "GPU"
  },
  "cells": [
    {
      "cell_type": "markdown",
      "source": [
        "**1. Данные**"
      ],
      "metadata": {
        "id": "TbTjAYMFVDsW"
      }
    },
    {
      "cell_type": "code",
      "execution_count": 1,
      "metadata": {
        "colab": {
          "base_uri": "https://localhost:8080/"
        },
        "id": "ubCLB0_cPUMc",
        "outputId": "90c4d0fe-446b-4246-aeeb-de01851ed20a"
      },
      "outputs": [
        {
          "output_type": "stream",
          "name": "stdout",
          "text": [
            "Requirement already satisfied: gdown in /usr/local/lib/python3.12/dist-packages (5.2.0)\n",
            "Requirement already satisfied: beautifulsoup4 in /usr/local/lib/python3.12/dist-packages (from gdown) (4.13.5)\n",
            "Requirement already satisfied: filelock in /usr/local/lib/python3.12/dist-packages (from gdown) (3.20.0)\n",
            "Requirement already satisfied: requests[socks] in /usr/local/lib/python3.12/dist-packages (from gdown) (2.32.4)\n",
            "Requirement already satisfied: tqdm in /usr/local/lib/python3.12/dist-packages (from gdown) (4.67.1)\n",
            "Requirement already satisfied: soupsieve>1.2 in /usr/local/lib/python3.12/dist-packages (from beautifulsoup4->gdown) (2.8)\n",
            "Requirement already satisfied: typing-extensions>=4.0.0 in /usr/local/lib/python3.12/dist-packages (from beautifulsoup4->gdown) (4.15.0)\n",
            "Requirement already satisfied: charset_normalizer<4,>=2 in /usr/local/lib/python3.12/dist-packages (from requests[socks]->gdown) (3.4.4)\n",
            "Requirement already satisfied: idna<4,>=2.5 in /usr/local/lib/python3.12/dist-packages (from requests[socks]->gdown) (3.11)\n",
            "Requirement already satisfied: urllib3<3,>=1.21.1 in /usr/local/lib/python3.12/dist-packages (from requests[socks]->gdown) (2.5.0)\n",
            "Requirement already satisfied: certifi>=2017.4.17 in /usr/local/lib/python3.12/dist-packages (from requests[socks]->gdown) (2025.10.5)\n",
            "Requirement already satisfied: PySocks!=1.5.7,>=1.5.6 in /usr/local/lib/python3.12/dist-packages (from requests[socks]->gdown) (1.7.1)\n"
          ]
        }
      ],
      "source": [
        "!pip install gdown"
      ]
    },
    {
      "cell_type": "code",
      "source": [
        "!gdown \"https://drive.google.com/file/d/1j3Pey7vhGA5_OYrjos-gDwv5_gm7BPBO/view?usp=sharing\" --fuzzy -O handout.tar.gz"
      ],
      "metadata": {
        "colab": {
          "base_uri": "https://localhost:8080/"
        },
        "id": "gdU7nIQsRV74",
        "outputId": "a51810b6-2011-443a-8dfe-225d182e4e54"
      },
      "execution_count": 2,
      "outputs": [
        {
          "output_type": "stream",
          "name": "stdout",
          "text": [
            "Downloading...\n",
            "From (original): https://drive.google.com/uc?id=1j3Pey7vhGA5_OYrjos-gDwv5_gm7BPBO\n",
            "From (redirected): https://drive.google.com/uc?id=1j3Pey7vhGA5_OYrjos-gDwv5_gm7BPBO&confirm=t&uuid=8ae5315b-6c44-4662-aba2-259521be4382\n",
            "To: /content/handout.tar.gz\n",
            "100% 884M/884M [00:11<00:00, 77.9MB/s]\n"
          ]
        }
      ]
    },
    {
      "cell_type": "code",
      "source": [
        "!mkdir -p data\n",
        "!tar -xzf handout.tar.gz"
      ],
      "metadata": {
        "id": "TnZ93lU7RkAq"
      },
      "execution_count": 8,
      "outputs": []
    },
    {
      "cell_type": "code",
      "source": [
        "%%time\n",
        "# Read Dataset\n",
        "import numpy as np\n",
        "import json\n",
        "\n",
        "img_codes = np.load(\"data/image_codes.npy\")\n",
        "captions = json.load(open('data/captions_tokenized.json'))"
      ],
      "metadata": {
        "colab": {
          "base_uri": "https://localhost:8080/"
        },
        "id": "U5PbPdCSS39v",
        "outputId": "9e89d018-d0f5-4ce2-89ef-ce8dd357d433"
      },
      "execution_count": 9,
      "outputs": [
        {
          "output_type": "stream",
          "name": "stdout",
          "text": [
            "CPU times: user 122 ms, sys: 376 ms, total: 497 ms\n",
            "Wall time: 498 ms\n"
          ]
        }
      ]
    },
    {
      "cell_type": "code",
      "source": [
        "print(\"Each image code is a 2048-unit vector [ shape: %s ]\" % str(img_codes.shape))\n",
        "print(img_codes[0,:10], end='\\n\\n')\n",
        "print(\"For each image there are 5 reference captions, e.g.:\\n\")\n",
        "print('\\n'.join(captions[0]))"
      ],
      "metadata": {
        "colab": {
          "base_uri": "https://localhost:8080/"
        },
        "id": "r3SVf9SjTJWH",
        "outputId": "54af8cbd-b547-41bb-926b-0efce8663fed"
      },
      "execution_count": 10,
      "outputs": [
        {
          "output_type": "stream",
          "name": "stdout",
          "text": [
            "Each image code is a 2048-unit vector [ shape: (118287, 2048) ]\n",
            "[0.3659946  0.2016555  0.9245725  0.57063824 0.547268   0.8275868\n",
            " 0.3687277  0.12085301 0.0561931  0.49758485]\n",
            "\n",
            "For each image there are 5 reference captions, e.g.:\n",
            "\n",
            "people shopping in an open market for vegetables .\n",
            "an open market full of people and piles of vegetables .\n",
            "people are shopping at an open air produce market .\n",
            "large piles of carrots and potatoes at a crowded outdoor market .\n",
            "people shop for vegetables like carrots and potatoes at an open air market .\n"
          ]
        }
      ]
    },
    {
      "cell_type": "code",
      "source": [
        "#split descriptions into tokens\n",
        "for img_i in range(len(captions)):\n",
        "    for caption_i in range(len(captions[img_i])):\n",
        "        sentence = captions[img_i][caption_i]\n",
        "        captions[img_i][caption_i] = [\"#START#\"]+sentence.split(' ')+[\"#END#\"]"
      ],
      "metadata": {
        "id": "rS-mKAdKUESp"
      },
      "execution_count": 11,
      "outputs": []
    },
    {
      "cell_type": "code",
      "source": [
        "# Build a Vocabulary\n",
        "from collections import Counter\n",
        "word_counts = Counter()\n",
        "\n",
        "# Compute word frequencies for each word in captions. See code above for data structure\n",
        "for img_captions in captions:\n",
        "  for caption in img_captions:\n",
        "    for word in caption:\n",
        "      word_counts[word] += 1"
      ],
      "metadata": {
        "id": "VdCW44L4UKQ1"
      },
      "execution_count": 12,
      "outputs": []
    },
    {
      "cell_type": "code",
      "source": [
        "vocab  = ['#UNK#', '#START#', '#END#', '#PAD#']\n",
        "vocab += [k for k, v in word_counts.items() if v >= 5 if k not in vocab]\n",
        "n_tokens = len(vocab)\n",
        "\n",
        "assert 10000 <= n_tokens <= 10500\n",
        "\n",
        "word_to_index = {w: i for i, w in enumerate(vocab)}"
      ],
      "metadata": {
        "id": "qXo031iSUyYi"
      },
      "execution_count": 13,
      "outputs": []
    },
    {
      "cell_type": "code",
      "source": [
        "eos_ix = word_to_index['#END#']\n",
        "unk_ix = word_to_index['#UNK#']\n",
        "pad_ix = word_to_index['#PAD#']\n",
        "\n",
        "def as_matrix(sequences, max_len=None):\n",
        "    \"\"\" Convert a list of tokens into a matrix with padding \"\"\"\n",
        "    max_len = max_len or max(map(len,sequences))\n",
        "\n",
        "    matrix = np.zeros((len(sequences), max_len), dtype='int32') + pad_ix\n",
        "    for i,seq in enumerate(sequences):\n",
        "        row_ix = [word_to_index.get(word, unk_ix) for word in seq[:max_len]]\n",
        "        matrix[i, :len(row_ix)] = row_ix\n",
        "\n",
        "    return matrix"
      ],
      "metadata": {
        "id": "6EnsYkQKU7jv"
      },
      "execution_count": 14,
      "outputs": []
    },
    {
      "cell_type": "code",
      "source": [
        "#try it out on several descriptions of a random image\n",
        "as_matrix(captions[1337])"
      ],
      "metadata": {
        "colab": {
          "base_uri": "https://localhost:8080/"
        },
        "id": "sQ2IjE7rU9Bb",
        "outputId": "05b74615-dd03-4cff-bbd2-37e9d9aeccc8"
      },
      "execution_count": 15,
      "outputs": [
        {
          "output_type": "execute_result",
          "data": {
            "text/plain": [
              "array([[   1,   24,  262,  140,    6,  159,   14,   24,  858,  155,   12,\n",
              "           2,    3,    3,    3,    3,    3,    3,    3],\n",
              "       [   1,   24,  262,   53,   18,   24,  858,  155,    2,    3,    3,\n",
              "           3,    3,    3,    3,    3,    3,    3,    3],\n",
              "       [   1,   24,  262,   41,   18,  903,   35,  620,  155,    2,    3,\n",
              "           3,    3,    3,    3,    3,    3,    3,    3],\n",
              "       [   1,   45,  115,  262,   41,   53,   18,  620, 1525,   77,   12,\n",
              "           2,    3,    3,    3,    3,    3,    3,    3],\n",
              "       [   1,   24,  262,   53,   18,   24,  858,  123,   58,   45,  276,\n",
              "        3641,   24, 3642,   35,   45, 1128,   12,    2]], dtype=int32)"
            ]
          },
          "metadata": {},
          "execution_count": 15
        }
      ]
    },
    {
      "cell_type": "markdown",
      "source": [
        "**2. Построение нейронной сети**"
      ],
      "metadata": {
        "id": "iYbu2d5UVI9U"
      }
    },
    {
      "cell_type": "code",
      "source": [
        "import torch, torch.nn as nn\n",
        "import torch.nn.functional as F"
      ],
      "metadata": {
        "id": "EUtkqhZ_VLfJ"
      },
      "execution_count": 16,
      "outputs": []
    },
    {
      "cell_type": "code",
      "source": [
        "class CaptionNet(nn.Module):\n",
        "    def __init__(self, n_tokens=n_tokens, emb_size=128, lstm_units=256, cnn_feature_size=2048):\n",
        "        \"\"\" A recurrent 'head' network for image captioning. See scheme above. \"\"\"\n",
        "        super(self.__class__, self).__init__()\n",
        "\n",
        "        # a layer that converts conv features to initial LSTM state\n",
        "        self.cnn_to_h0 = nn.Linear(cnn_feature_size, lstm_units)\n",
        "        self.cnn_to_c0 = nn.Linear(cnn_feature_size, lstm_units)\n",
        "\n",
        "        # create embedding for input words\n",
        "        self.emb = nn.Embedding(num_embeddings=n_tokens, embedding_dim=emb_size, padding_idx=pad_ix)\n",
        "\n",
        "        # lstm: recurrent core\n",
        "        self.lstm = nn.LSTM(\n",
        "            input_size=emb_size,\n",
        "            hidden_size=lstm_units,\n",
        "            batch_first=True\n",
        "        )\n",
        "\n",
        "        # linear layer to map LSTM hidden states to logits over vocabulary\n",
        "        self.logits = nn.Linear(lstm_units, n_tokens)\n",
        "\n",
        "    def forward(self, image_vectors, captions_ix):\n",
        "        \"\"\"\n",
        "        Apply the network in training mode.\n",
        "        :param image_vectors: torch tensor containing inception vectors. shape: [batch, cnn_feature_size]\n",
        "        :param captions_ix: torch tensor containing captions as matrix. shape: [batch, word_i].\n",
        "            padded with pad_ix\n",
        "        :returns: logits for next token at each tick, shape: [batch, word_i, n_tokens]\n",
        "        \"\"\"\n",
        "        initial_cell = self.cnn_to_c0(image_vectors)  # [batch, lstm_units]\n",
        "        initial_hid = self.cnn_to_h0(image_vectors)   # [batch, lstm_units]\n",
        "\n",
        "        # compute embeddings for captions_ix\n",
        "        captions_emb = self.emb(captions_ix)  # [batch, seq_len, emb_size]\n",
        "\n",
        "        # initialize LSTM hidden and cell states\n",
        "        # nn.LSTM expects (num_layers, batch, hidden_size), so we add a dimension\n",
        "        h0 = initial_hid.unsqueeze(0)  # [1, batch, lstm_units]\n",
        "        c0 = initial_cell.unsqueeze(0)  # [1, batch, lstm_units]\n",
        "\n",
        "        # apply LSTM\n",
        "        lstm_out, _ = self.lstm(captions_emb, (h0, c0))  # [batch, seq_len, lstm_units]\n",
        "\n",
        "        # compute logits from lstm_out\n",
        "        logits = self.logits(lstm_out)  # [batch, seq_len, n_tokens]\n",
        "\n",
        "        return logits"
      ],
      "metadata": {
        "id": "k1UlWnlFVNhQ"
      },
      "execution_count": 17,
      "outputs": []
    },
    {
      "cell_type": "code",
      "source": [
        "network = CaptionNet(n_tokens)"
      ],
      "metadata": {
        "id": "7F4tpmkdYcY9"
      },
      "execution_count": 18,
      "outputs": []
    },
    {
      "cell_type": "code",
      "source": [
        "dummy_img_vec = torch.randn(len(captions[0]), 2048)\n",
        "dummy_capt_ix = torch.tensor(as_matrix(captions[0]), dtype=torch.int64)\n",
        "\n",
        "dummy_logis = network.forward(dummy_img_vec, dummy_capt_ix)\n",
        "\n",
        "print('shape:', dummy_logis.shape)\n",
        "assert dummy_logis.shape == (dummy_capt_ix.shape[0], dummy_capt_ix.shape[1], n_tokens)"
      ],
      "metadata": {
        "colab": {
          "base_uri": "https://localhost:8080/"
        },
        "id": "iX9TJ9q-YiMU",
        "outputId": "521fa7de-746d-448a-aad5-28ae1be7c517"
      },
      "execution_count": 19,
      "outputs": [
        {
          "output_type": "stream",
          "name": "stdout",
          "text": [
            "shape: torch.Size([5, 16, 10403])\n"
          ]
        }
      ]
    },
    {
      "cell_type": "code",
      "source": [
        "def compute_loss(network, image_vectors, caption_ix):\n",
        "  caption_ix_inp = caption_ix[:, :-1].contiguous()\n",
        "  caption_ix_next = caption_ix[:, 1:].contiguous()\n",
        "\n",
        "  logits_for_next = network.forward(image_vectors, caption_ix_inp)\n",
        "\n",
        "  loss_fn = nn.CrossEntropyLoss(ignore_index=pad_ix)\n",
        "\n",
        "  batch_size, seq_len, n_tokens = logits_for_next.shape\n",
        "  logits_flat = logits_for_next.reshape(-1, n_tokens)\n",
        "  targets_flat = caption_ix_next.reshape(-1)\n",
        "\n",
        "  loss = loss_fn(logits_flat, targets_flat).unsqueeze(0)\n",
        "\n",
        "  return loss\n"
      ],
      "metadata": {
        "id": "7l6zfuQRZfOc"
      },
      "execution_count": 20,
      "outputs": []
    },
    {
      "cell_type": "code",
      "source": [
        "dummy_loss = compute_loss(network, dummy_img_vec, dummy_capt_ix)\n",
        "\n",
        "assert dummy_loss.shape == torch.Size([1]), 'loss must be scalar'\n",
        "assert dummy_loss.data.numpy() > 0, \"did you forget the 'negative' part of negative log-likelihood\"\n",
        "\n",
        "dummy_loss.backward()\n",
        "\n",
        "assert all(param.grad is not None for param in network.parameters()), \\\n",
        "        'loss should depend differentiably on all neural network weights'"
      ],
      "metadata": {
        "id": "ON6ZZ7wfbP2T"
      },
      "execution_count": 21,
      "outputs": []
    },
    {
      "cell_type": "code",
      "source": [
        "optimizer = torch.optim.Adam(\n",
        "    network.parameters(),\n",
        "    lr=3e-4,\n",
        "    weight_decay=1e-5\n",
        ")"
      ],
      "metadata": {
        "id": "3joXEo5JbRyi"
      },
      "execution_count": 22,
      "outputs": []
    },
    {
      "cell_type": "markdown",
      "source": [
        "**3. Обучение**"
      ],
      "metadata": {
        "id": "99744taBdwBF"
      }
    },
    {
      "cell_type": "code",
      "source": [
        "from sklearn.model_selection import train_test_split\n",
        "\n",
        "train_img_codes, val_img_codes, train_captions, val_captions = train_test_split(img_codes, captions, test_size=0.1, random_state=42)"
      ],
      "metadata": {
        "id": "a-RyKlwIdySo"
      },
      "execution_count": 23,
      "outputs": []
    },
    {
      "cell_type": "code",
      "source": [
        "from random import choice\n",
        "\n",
        "def generate_batch(img_codes, captions, batch_size, max_caption_len=None):\n",
        "\n",
        "  random_image_ix = np.random.randint(0, len(img_codes), size=batch_size)\n",
        "\n",
        "  batch_images = img_codes[random_image_ix]\n",
        "\n",
        "  captions_for_batch_images = [captions[i] for i in random_image_ix]\n",
        "\n",
        "  batch_captions = list(map(choice, captions_for_batch_images))\n",
        "\n",
        "  batch_captions_ix = as_matrix(batch_captions, max_len=max_caption_len)\n",
        "\n",
        "  return torch.tensor(batch_images, dtype=torch.float32), torch.tensor(batch_captions_ix, dtype=torch.int64)"
      ],
      "metadata": {
        "id": "Ws4U7zWNekwL"
      },
      "execution_count": 24,
      "outputs": []
    },
    {
      "cell_type": "code",
      "source": [
        "generate_batch(img_codes, captions, 3)"
      ],
      "metadata": {
        "colab": {
          "base_uri": "https://localhost:8080/"
        },
        "id": "NfzCtvdzgUDD",
        "outputId": "7dc83d8d-73e2-41f8-edd8-7738a611cc1f"
      },
      "execution_count": 25,
      "outputs": [
        {
          "output_type": "execute_result",
          "data": {
            "text/plain": [
              "(tensor([[0.4230, 0.1060, 0.3659,  ..., 0.2765, 1.0187, 0.4400],\n",
              "         [0.0245, 0.0973, 0.0730,  ..., 0.0683, 0.8157, 0.0222],\n",
              "         [0.1902, 0.4464, 0.2465,  ..., 0.4297, 0.1764, 0.2684]]),\n",
              " tensor([[   1,  360,   17,  112,  928, 1371, 2436,  503,   35,   45,   71,   12,\n",
              "             2,    3],\n",
              "         [   1,   24,   57,   15,   24,  278,  279,   94,  120,   51,  747,  541,\n",
              "          3042,    2],\n",
              "         [   1,   45,   88,    4,   17,  611, 2011, 1371,   35,   45,  155,   12,\n",
              "             2,    3]]))"
            ]
          },
          "metadata": {},
          "execution_count": 25
        }
      ]
    },
    {
      "cell_type": "code",
      "source": [
        "batch_size = 50\n",
        "n_epochs = 100\n",
        "n_batches_per_epoch = 50\n",
        "n_validation_batches = 5"
      ],
      "metadata": {
        "id": "OP1qx38pga7H"
      },
      "execution_count": 26,
      "outputs": []
    },
    {
      "cell_type": "code",
      "source": [
        "from tqdm import tqdm\n",
        "\n",
        "for epoch in range(n_epochs):\n",
        "\n",
        "    train_loss = 0\n",
        "    network.train(True)\n",
        "    for _ in tqdm(range(n_batches_per_epoch)):\n",
        "\n",
        "        loss_t = compute_loss(network, *generate_batch(train_img_codes, train_captions, batch_size))\n",
        "\n",
        "        # clear old gradients; do a backward pass to get new gradients; then train with opt\n",
        "        optimizer.zero_grad()      # обнуляем градиенты с прошлой итерации\n",
        "        loss_t.backward()          # вычисляем градиенты\n",
        "        optimizer.step()           # обновляем веса\n",
        "\n",
        "        train_loss += loss_t.item()\n",
        "\n",
        "    train_loss /= n_batches_per_epoch\n",
        "\n",
        "    val_loss = 0\n",
        "    network.train(False)\n",
        "    for _ in range(n_validation_batches):\n",
        "        with torch.no_grad():  # отключаем вычисление градиентов для валидации (экономия памяти и скорости)\n",
        "            loss_t = compute_loss(network, *generate_batch(val_img_codes, val_captions, batch_size))\n",
        "            val_loss += loss_t.item()\n",
        "    val_loss /= n_validation_batches\n",
        "\n",
        "    print('\\nEpoch: {}, train loss: {:.4f}, val loss: {:.4f}'.format(epoch, train_loss, val_loss))\n",
        "\n",
        "print(\"Finished!\")"
      ],
      "metadata": {
        "colab": {
          "base_uri": "https://localhost:8080/"
        },
        "id": "WW6FmJsBhjeU",
        "outputId": "c57b83c0-a28c-4371-920b-96d990061183"
      },
      "execution_count": 27,
      "outputs": [
        {
          "output_type": "stream",
          "name": "stderr",
          "text": [
            "100%|██████████| 50/50 [00:17<00:00,  2.90it/s]\n"
          ]
        },
        {
          "output_type": "stream",
          "name": "stdout",
          "text": [
            "\n",
            "Epoch: 0, train loss: 7.3936, val loss: 5.4311\n"
          ]
        },
        {
          "output_type": "stream",
          "name": "stderr",
          "text": [
            "100%|██████████| 50/50 [00:17<00:00,  2.84it/s]\n"
          ]
        },
        {
          "output_type": "stream",
          "name": "stdout",
          "text": [
            "\n",
            "Epoch: 1, train loss: 5.0908, val loss: 4.9387\n"
          ]
        },
        {
          "output_type": "stream",
          "name": "stderr",
          "text": [
            "100%|██████████| 50/50 [00:17<00:00,  2.87it/s]\n"
          ]
        },
        {
          "output_type": "stream",
          "name": "stdout",
          "text": [
            "\n",
            "Epoch: 2, train loss: 4.8813, val loss: 4.8051\n"
          ]
        },
        {
          "output_type": "stream",
          "name": "stderr",
          "text": [
            "100%|██████████| 50/50 [00:16<00:00,  3.06it/s]\n"
          ]
        },
        {
          "output_type": "stream",
          "name": "stdout",
          "text": [
            "\n",
            "Epoch: 3, train loss: 4.7953, val loss: 4.8702\n"
          ]
        },
        {
          "output_type": "stream",
          "name": "stderr",
          "text": [
            "100%|██████████| 50/50 [00:18<00:00,  2.72it/s]\n"
          ]
        },
        {
          "output_type": "stream",
          "name": "stdout",
          "text": [
            "\n",
            "Epoch: 4, train loss: 4.6628, val loss: 4.6857\n"
          ]
        },
        {
          "output_type": "stream",
          "name": "stderr",
          "text": [
            "100%|██████████| 50/50 [00:16<00:00,  2.95it/s]\n"
          ]
        },
        {
          "output_type": "stream",
          "name": "stdout",
          "text": [
            "\n",
            "Epoch: 5, train loss: 4.5776, val loss: 4.6335\n"
          ]
        },
        {
          "output_type": "stream",
          "name": "stderr",
          "text": [
            "100%|██████████| 50/50 [00:17<00:00,  2.78it/s]\n"
          ]
        },
        {
          "output_type": "stream",
          "name": "stdout",
          "text": [
            "\n",
            "Epoch: 6, train loss: 4.5072, val loss: 4.3904\n"
          ]
        },
        {
          "output_type": "stream",
          "name": "stderr",
          "text": [
            "100%|██████████| 50/50 [00:17<00:00,  2.87it/s]\n"
          ]
        },
        {
          "output_type": "stream",
          "name": "stdout",
          "text": [
            "\n",
            "Epoch: 7, train loss: 4.4408, val loss: 4.3876\n"
          ]
        },
        {
          "output_type": "stream",
          "name": "stderr",
          "text": [
            "100%|██████████| 50/50 [00:17<00:00,  2.93it/s]\n"
          ]
        },
        {
          "output_type": "stream",
          "name": "stdout",
          "text": [
            "\n",
            "Epoch: 8, train loss: 4.3639, val loss: 4.2221\n"
          ]
        },
        {
          "output_type": "stream",
          "name": "stderr",
          "text": [
            "100%|██████████| 50/50 [00:16<00:00,  3.00it/s]\n"
          ]
        },
        {
          "output_type": "stream",
          "name": "stdout",
          "text": [
            "\n",
            "Epoch: 9, train loss: 4.2912, val loss: 4.2004\n"
          ]
        },
        {
          "output_type": "stream",
          "name": "stderr",
          "text": [
            "100%|██████████| 50/50 [00:17<00:00,  2.86it/s]\n"
          ]
        },
        {
          "output_type": "stream",
          "name": "stdout",
          "text": [
            "\n",
            "Epoch: 10, train loss: 4.2467, val loss: 4.1320\n"
          ]
        },
        {
          "output_type": "stream",
          "name": "stderr",
          "text": [
            "100%|██████████| 50/50 [00:18<00:00,  2.74it/s]\n"
          ]
        },
        {
          "output_type": "stream",
          "name": "stdout",
          "text": [
            "\n",
            "Epoch: 11, train loss: 4.1599, val loss: 4.1695\n"
          ]
        },
        {
          "output_type": "stream",
          "name": "stderr",
          "text": [
            "100%|██████████| 50/50 [00:16<00:00,  2.97it/s]\n"
          ]
        },
        {
          "output_type": "stream",
          "name": "stdout",
          "text": [
            "\n",
            "Epoch: 12, train loss: 4.1316, val loss: 4.0535\n"
          ]
        },
        {
          "output_type": "stream",
          "name": "stderr",
          "text": [
            "100%|██████████| 50/50 [00:15<00:00,  3.24it/s]\n"
          ]
        },
        {
          "output_type": "stream",
          "name": "stdout",
          "text": [
            "\n",
            "Epoch: 13, train loss: 4.0628, val loss: 4.0710\n"
          ]
        },
        {
          "output_type": "stream",
          "name": "stderr",
          "text": [
            "100%|██████████| 50/50 [00:16<00:00,  2.94it/s]\n"
          ]
        },
        {
          "output_type": "stream",
          "name": "stdout",
          "text": [
            "\n",
            "Epoch: 14, train loss: 4.0952, val loss: 4.0846\n"
          ]
        },
        {
          "output_type": "stream",
          "name": "stderr",
          "text": [
            "100%|██████████| 50/50 [00:17<00:00,  2.82it/s]\n"
          ]
        },
        {
          "output_type": "stream",
          "name": "stdout",
          "text": [
            "\n",
            "Epoch: 15, train loss: 4.0399, val loss: 4.0982\n"
          ]
        },
        {
          "output_type": "stream",
          "name": "stderr",
          "text": [
            "100%|██████████| 50/50 [00:16<00:00,  2.96it/s]\n"
          ]
        },
        {
          "output_type": "stream",
          "name": "stdout",
          "text": [
            "\n",
            "Epoch: 16, train loss: 3.9682, val loss: 3.9802\n"
          ]
        },
        {
          "output_type": "stream",
          "name": "stderr",
          "text": [
            "100%|██████████| 50/50 [00:16<00:00,  3.07it/s]\n"
          ]
        },
        {
          "output_type": "stream",
          "name": "stdout",
          "text": [
            "\n",
            "Epoch: 17, train loss: 3.9310, val loss: 3.9696\n"
          ]
        },
        {
          "output_type": "stream",
          "name": "stderr",
          "text": [
            "100%|██████████| 50/50 [00:17<00:00,  2.90it/s]\n"
          ]
        },
        {
          "output_type": "stream",
          "name": "stdout",
          "text": [
            "\n",
            "Epoch: 18, train loss: 3.8989, val loss: 3.9760\n"
          ]
        },
        {
          "output_type": "stream",
          "name": "stderr",
          "text": [
            "100%|██████████| 50/50 [00:16<00:00,  3.02it/s]\n"
          ]
        },
        {
          "output_type": "stream",
          "name": "stdout",
          "text": [
            "\n",
            "Epoch: 19, train loss: 3.8643, val loss: 3.7623\n"
          ]
        },
        {
          "output_type": "stream",
          "name": "stderr",
          "text": [
            "100%|██████████| 50/50 [00:16<00:00,  3.01it/s]\n"
          ]
        },
        {
          "output_type": "stream",
          "name": "stdout",
          "text": [
            "\n",
            "Epoch: 20, train loss: 3.8445, val loss: 3.8820\n"
          ]
        },
        {
          "output_type": "stream",
          "name": "stderr",
          "text": [
            "100%|██████████| 50/50 [00:17<00:00,  2.85it/s]\n"
          ]
        },
        {
          "output_type": "stream",
          "name": "stdout",
          "text": [
            "\n",
            "Epoch: 21, train loss: 3.8270, val loss: 3.7990\n"
          ]
        },
        {
          "output_type": "stream",
          "name": "stderr",
          "text": [
            "100%|██████████| 50/50 [00:17<00:00,  2.82it/s]\n"
          ]
        },
        {
          "output_type": "stream",
          "name": "stdout",
          "text": [
            "\n",
            "Epoch: 22, train loss: 3.7635, val loss: 3.7298\n"
          ]
        },
        {
          "output_type": "stream",
          "name": "stderr",
          "text": [
            "100%|██████████| 50/50 [00:17<00:00,  2.80it/s]\n"
          ]
        },
        {
          "output_type": "stream",
          "name": "stdout",
          "text": [
            "\n",
            "Epoch: 23, train loss: 3.7647, val loss: 3.7481\n"
          ]
        },
        {
          "output_type": "stream",
          "name": "stderr",
          "text": [
            "100%|██████████| 50/50 [00:17<00:00,  2.87it/s]\n"
          ]
        },
        {
          "output_type": "stream",
          "name": "stdout",
          "text": [
            "\n",
            "Epoch: 24, train loss: 3.7329, val loss: 3.7335\n"
          ]
        },
        {
          "output_type": "stream",
          "name": "stderr",
          "text": [
            "100%|██████████| 50/50 [00:17<00:00,  2.82it/s]\n"
          ]
        },
        {
          "output_type": "stream",
          "name": "stdout",
          "text": [
            "\n",
            "Epoch: 25, train loss: 3.7072, val loss: 3.6346\n"
          ]
        },
        {
          "output_type": "stream",
          "name": "stderr",
          "text": [
            "100%|██████████| 50/50 [00:17<00:00,  2.82it/s]\n"
          ]
        },
        {
          "output_type": "stream",
          "name": "stdout",
          "text": [
            "\n",
            "Epoch: 26, train loss: 3.6757, val loss: 3.6585\n"
          ]
        },
        {
          "output_type": "stream",
          "name": "stderr",
          "text": [
            "100%|██████████| 50/50 [00:17<00:00,  2.89it/s]\n"
          ]
        },
        {
          "output_type": "stream",
          "name": "stdout",
          "text": [
            "\n",
            "Epoch: 27, train loss: 3.6560, val loss: 3.5944\n"
          ]
        },
        {
          "output_type": "stream",
          "name": "stderr",
          "text": [
            "100%|██████████| 50/50 [00:17<00:00,  2.85it/s]\n"
          ]
        },
        {
          "output_type": "stream",
          "name": "stdout",
          "text": [
            "\n",
            "Epoch: 28, train loss: 3.6416, val loss: 3.6105\n"
          ]
        },
        {
          "output_type": "stream",
          "name": "stderr",
          "text": [
            "100%|██████████| 50/50 [00:18<00:00,  2.74it/s]\n"
          ]
        },
        {
          "output_type": "stream",
          "name": "stdout",
          "text": [
            "\n",
            "Epoch: 29, train loss: 3.5975, val loss: 3.6038\n"
          ]
        },
        {
          "output_type": "stream",
          "name": "stderr",
          "text": [
            "100%|██████████| 50/50 [00:17<00:00,  2.91it/s]\n"
          ]
        },
        {
          "output_type": "stream",
          "name": "stdout",
          "text": [
            "\n",
            "Epoch: 30, train loss: 3.5627, val loss: 3.6867\n"
          ]
        },
        {
          "output_type": "stream",
          "name": "stderr",
          "text": [
            "100%|██████████| 50/50 [00:16<00:00,  3.00it/s]\n"
          ]
        },
        {
          "output_type": "stream",
          "name": "stdout",
          "text": [
            "\n",
            "Epoch: 31, train loss: 3.5662, val loss: 3.4940\n"
          ]
        },
        {
          "output_type": "stream",
          "name": "stderr",
          "text": [
            "100%|██████████| 50/50 [00:16<00:00,  3.03it/s]\n"
          ]
        },
        {
          "output_type": "stream",
          "name": "stdout",
          "text": [
            "\n",
            "Epoch: 32, train loss: 3.5578, val loss: 3.6746\n"
          ]
        },
        {
          "output_type": "stream",
          "name": "stderr",
          "text": [
            "100%|██████████| 50/50 [00:18<00:00,  2.72it/s]\n"
          ]
        },
        {
          "output_type": "stream",
          "name": "stdout",
          "text": [
            "\n",
            "Epoch: 33, train loss: 3.4976, val loss: 3.5387\n"
          ]
        },
        {
          "output_type": "stream",
          "name": "stderr",
          "text": [
            "100%|██████████| 50/50 [00:17<00:00,  2.94it/s]\n"
          ]
        },
        {
          "output_type": "stream",
          "name": "stdout",
          "text": [
            "\n",
            "Epoch: 34, train loss: 3.4847, val loss: 3.5164\n"
          ]
        },
        {
          "output_type": "stream",
          "name": "stderr",
          "text": [
            "100%|██████████| 50/50 [00:17<00:00,  2.92it/s]\n"
          ]
        },
        {
          "output_type": "stream",
          "name": "stdout",
          "text": [
            "\n",
            "Epoch: 35, train loss: 3.4932, val loss: 3.5126\n"
          ]
        },
        {
          "output_type": "stream",
          "name": "stderr",
          "text": [
            "100%|██████████| 50/50 [00:19<00:00,  2.62it/s]\n"
          ]
        },
        {
          "output_type": "stream",
          "name": "stdout",
          "text": [
            "\n",
            "Epoch: 36, train loss: 3.4585, val loss: 3.5352\n"
          ]
        },
        {
          "output_type": "stream",
          "name": "stderr",
          "text": [
            "100%|██████████| 50/50 [00:17<00:00,  2.89it/s]\n"
          ]
        },
        {
          "output_type": "stream",
          "name": "stdout",
          "text": [
            "\n",
            "Epoch: 37, train loss: 3.4442, val loss: 3.2461\n"
          ]
        },
        {
          "output_type": "stream",
          "name": "stderr",
          "text": [
            "100%|██████████| 50/50 [00:17<00:00,  2.86it/s]\n"
          ]
        },
        {
          "output_type": "stream",
          "name": "stdout",
          "text": [
            "\n",
            "Epoch: 38, train loss: 3.4100, val loss: 3.4018\n"
          ]
        },
        {
          "output_type": "stream",
          "name": "stderr",
          "text": [
            "100%|██████████| 50/50 [00:18<00:00,  2.74it/s]\n"
          ]
        },
        {
          "output_type": "stream",
          "name": "stdout",
          "text": [
            "\n",
            "Epoch: 39, train loss: 3.4404, val loss: 3.5162\n"
          ]
        },
        {
          "output_type": "stream",
          "name": "stderr",
          "text": [
            "100%|██████████| 50/50 [00:17<00:00,  2.89it/s]\n"
          ]
        },
        {
          "output_type": "stream",
          "name": "stdout",
          "text": [
            "\n",
            "Epoch: 40, train loss: 3.3970, val loss: 3.4136\n"
          ]
        },
        {
          "output_type": "stream",
          "name": "stderr",
          "text": [
            "100%|██████████| 50/50 [00:17<00:00,  2.87it/s]\n"
          ]
        },
        {
          "output_type": "stream",
          "name": "stdout",
          "text": [
            "\n",
            "Epoch: 41, train loss: 3.3839, val loss: 3.4590\n"
          ]
        },
        {
          "output_type": "stream",
          "name": "stderr",
          "text": [
            "100%|██████████| 50/50 [00:17<00:00,  2.92it/s]\n"
          ]
        },
        {
          "output_type": "stream",
          "name": "stdout",
          "text": [
            "\n",
            "Epoch: 42, train loss: 3.3683, val loss: 3.3725\n"
          ]
        },
        {
          "output_type": "stream",
          "name": "stderr",
          "text": [
            "100%|██████████| 50/50 [00:15<00:00,  3.15it/s]\n"
          ]
        },
        {
          "output_type": "stream",
          "name": "stdout",
          "text": [
            "\n",
            "Epoch: 43, train loss: 3.3350, val loss: 3.3184\n"
          ]
        },
        {
          "output_type": "stream",
          "name": "stderr",
          "text": [
            "100%|██████████| 50/50 [00:16<00:00,  3.06it/s]\n"
          ]
        },
        {
          "output_type": "stream",
          "name": "stdout",
          "text": [
            "\n",
            "Epoch: 44, train loss: 3.3287, val loss: 3.2727\n"
          ]
        },
        {
          "output_type": "stream",
          "name": "stderr",
          "text": [
            "100%|██████████| 50/50 [00:18<00:00,  2.72it/s]\n"
          ]
        },
        {
          "output_type": "stream",
          "name": "stdout",
          "text": [
            "\n",
            "Epoch: 45, train loss: 3.3124, val loss: 3.3660\n"
          ]
        },
        {
          "output_type": "stream",
          "name": "stderr",
          "text": [
            "100%|██████████| 50/50 [00:16<00:00,  3.01it/s]\n"
          ]
        },
        {
          "output_type": "stream",
          "name": "stdout",
          "text": [
            "\n",
            "Epoch: 46, train loss: 3.3239, val loss: 3.2464\n"
          ]
        },
        {
          "output_type": "stream",
          "name": "stderr",
          "text": [
            "100%|██████████| 50/50 [00:16<00:00,  3.09it/s]\n"
          ]
        },
        {
          "output_type": "stream",
          "name": "stdout",
          "text": [
            "\n",
            "Epoch: 47, train loss: 3.3020, val loss: 3.3197\n"
          ]
        },
        {
          "output_type": "stream",
          "name": "stderr",
          "text": [
            "100%|██████████| 50/50 [00:15<00:00,  3.31it/s]\n"
          ]
        },
        {
          "output_type": "stream",
          "name": "stdout",
          "text": [
            "\n",
            "Epoch: 48, train loss: 3.2659, val loss: 3.1929\n"
          ]
        },
        {
          "output_type": "stream",
          "name": "stderr",
          "text": [
            "100%|██████████| 50/50 [00:17<00:00,  2.79it/s]\n"
          ]
        },
        {
          "output_type": "stream",
          "name": "stdout",
          "text": [
            "\n",
            "Epoch: 49, train loss: 3.3054, val loss: 3.4459\n"
          ]
        },
        {
          "output_type": "stream",
          "name": "stderr",
          "text": [
            "100%|██████████| 50/50 [00:16<00:00,  2.98it/s]\n"
          ]
        },
        {
          "output_type": "stream",
          "name": "stdout",
          "text": [
            "\n",
            "Epoch: 50, train loss: 3.2711, val loss: 3.1928\n"
          ]
        },
        {
          "output_type": "stream",
          "name": "stderr",
          "text": [
            "100%|██████████| 50/50 [00:17<00:00,  2.83it/s]\n"
          ]
        },
        {
          "output_type": "stream",
          "name": "stdout",
          "text": [
            "\n",
            "Epoch: 51, train loss: 3.2170, val loss: 3.2004\n"
          ]
        },
        {
          "output_type": "stream",
          "name": "stderr",
          "text": [
            "100%|██████████| 50/50 [00:18<00:00,  2.63it/s]\n"
          ]
        },
        {
          "output_type": "stream",
          "name": "stdout",
          "text": [
            "\n",
            "Epoch: 52, train loss: 3.2655, val loss: 3.3723\n"
          ]
        },
        {
          "output_type": "stream",
          "name": "stderr",
          "text": [
            "100%|██████████| 50/50 [00:17<00:00,  2.80it/s]\n"
          ]
        },
        {
          "output_type": "stream",
          "name": "stdout",
          "text": [
            "\n",
            "Epoch: 53, train loss: 3.2348, val loss: 3.2060\n"
          ]
        },
        {
          "output_type": "stream",
          "name": "stderr",
          "text": [
            "100%|██████████| 50/50 [00:16<00:00,  3.02it/s]\n"
          ]
        },
        {
          "output_type": "stream",
          "name": "stdout",
          "text": [
            "\n",
            "Epoch: 54, train loss: 3.2560, val loss: 3.3264\n"
          ]
        },
        {
          "output_type": "stream",
          "name": "stderr",
          "text": [
            "100%|██████████| 50/50 [00:17<00:00,  2.87it/s]\n"
          ]
        },
        {
          "output_type": "stream",
          "name": "stdout",
          "text": [
            "\n",
            "Epoch: 55, train loss: 3.2030, val loss: 3.2622\n"
          ]
        },
        {
          "output_type": "stream",
          "name": "stderr",
          "text": [
            "100%|██████████| 50/50 [00:17<00:00,  2.85it/s]\n"
          ]
        },
        {
          "output_type": "stream",
          "name": "stdout",
          "text": [
            "\n",
            "Epoch: 56, train loss: 3.1903, val loss: 3.2439\n"
          ]
        },
        {
          "output_type": "stream",
          "name": "stderr",
          "text": [
            "100%|██████████| 50/50 [00:16<00:00,  2.95it/s]\n"
          ]
        },
        {
          "output_type": "stream",
          "name": "stdout",
          "text": [
            "\n",
            "Epoch: 57, train loss: 3.1559, val loss: 3.3085\n"
          ]
        },
        {
          "output_type": "stream",
          "name": "stderr",
          "text": [
            "100%|██████████| 50/50 [00:17<00:00,  2.86it/s]\n"
          ]
        },
        {
          "output_type": "stream",
          "name": "stdout",
          "text": [
            "\n",
            "Epoch: 58, train loss: 3.1513, val loss: 3.2493\n"
          ]
        },
        {
          "output_type": "stream",
          "name": "stderr",
          "text": [
            "100%|██████████| 50/50 [00:16<00:00,  3.03it/s]\n"
          ]
        },
        {
          "output_type": "stream",
          "name": "stdout",
          "text": [
            "\n",
            "Epoch: 59, train loss: 3.1104, val loss: 3.0751\n"
          ]
        },
        {
          "output_type": "stream",
          "name": "stderr",
          "text": [
            "100%|██████████| 50/50 [00:17<00:00,  2.92it/s]\n"
          ]
        },
        {
          "output_type": "stream",
          "name": "stdout",
          "text": [
            "\n",
            "Epoch: 60, train loss: 3.1565, val loss: 3.1633\n"
          ]
        },
        {
          "output_type": "stream",
          "name": "stderr",
          "text": [
            "100%|██████████| 50/50 [00:17<00:00,  2.81it/s]\n"
          ]
        },
        {
          "output_type": "stream",
          "name": "stdout",
          "text": [
            "\n",
            "Epoch: 61, train loss: 3.1561, val loss: 3.0683\n"
          ]
        },
        {
          "output_type": "stream",
          "name": "stderr",
          "text": [
            "100%|██████████| 50/50 [00:16<00:00,  3.06it/s]\n"
          ]
        },
        {
          "output_type": "stream",
          "name": "stdout",
          "text": [
            "\n",
            "Epoch: 62, train loss: 3.1006, val loss: 2.9827\n"
          ]
        },
        {
          "output_type": "stream",
          "name": "stderr",
          "text": [
            "100%|██████████| 50/50 [00:17<00:00,  2.90it/s]\n"
          ]
        },
        {
          "output_type": "stream",
          "name": "stdout",
          "text": [
            "\n",
            "Epoch: 63, train loss: 3.1642, val loss: 3.0857\n"
          ]
        },
        {
          "output_type": "stream",
          "name": "stderr",
          "text": [
            "100%|██████████| 50/50 [00:17<00:00,  2.82it/s]\n"
          ]
        },
        {
          "output_type": "stream",
          "name": "stdout",
          "text": [
            "\n",
            "Epoch: 64, train loss: 3.1058, val loss: 3.0062\n"
          ]
        },
        {
          "output_type": "stream",
          "name": "stderr",
          "text": [
            "100%|██████████| 50/50 [00:17<00:00,  2.91it/s]\n"
          ]
        },
        {
          "output_type": "stream",
          "name": "stdout",
          "text": [
            "\n",
            "Epoch: 65, train loss: 3.1291, val loss: 3.1042\n"
          ]
        },
        {
          "output_type": "stream",
          "name": "stderr",
          "text": [
            "100%|██████████| 50/50 [00:17<00:00,  2.93it/s]\n"
          ]
        },
        {
          "output_type": "stream",
          "name": "stdout",
          "text": [
            "\n",
            "Epoch: 66, train loss: 3.0655, val loss: 3.1328\n"
          ]
        },
        {
          "output_type": "stream",
          "name": "stderr",
          "text": [
            "100%|██████████| 50/50 [00:16<00:00,  3.00it/s]\n"
          ]
        },
        {
          "output_type": "stream",
          "name": "stdout",
          "text": [
            "\n",
            "Epoch: 67, train loss: 3.0747, val loss: 3.0862\n"
          ]
        },
        {
          "output_type": "stream",
          "name": "stderr",
          "text": [
            "100%|██████████| 50/50 [00:18<00:00,  2.71it/s]\n"
          ]
        },
        {
          "output_type": "stream",
          "name": "stdout",
          "text": [
            "\n",
            "Epoch: 68, train loss: 3.0774, val loss: 3.0028\n"
          ]
        },
        {
          "output_type": "stream",
          "name": "stderr",
          "text": [
            "100%|██████████| 50/50 [00:17<00:00,  2.81it/s]\n"
          ]
        },
        {
          "output_type": "stream",
          "name": "stdout",
          "text": [
            "\n",
            "Epoch: 69, train loss: 3.0524, val loss: 3.1439\n"
          ]
        },
        {
          "output_type": "stream",
          "name": "stderr",
          "text": [
            "100%|██████████| 50/50 [00:18<00:00,  2.65it/s]\n"
          ]
        },
        {
          "output_type": "stream",
          "name": "stdout",
          "text": [
            "\n",
            "Epoch: 70, train loss: 3.0814, val loss: 3.1155\n"
          ]
        },
        {
          "output_type": "stream",
          "name": "stderr",
          "text": [
            "100%|██████████| 50/50 [00:16<00:00,  2.98it/s]\n"
          ]
        },
        {
          "output_type": "stream",
          "name": "stdout",
          "text": [
            "\n",
            "Epoch: 71, train loss: 3.0935, val loss: 3.1945\n"
          ]
        },
        {
          "output_type": "stream",
          "name": "stderr",
          "text": [
            "100%|██████████| 50/50 [00:16<00:00,  2.97it/s]\n"
          ]
        },
        {
          "output_type": "stream",
          "name": "stdout",
          "text": [
            "\n",
            "Epoch: 72, train loss: 3.0735, val loss: 3.0237\n"
          ]
        },
        {
          "output_type": "stream",
          "name": "stderr",
          "text": [
            "100%|██████████| 50/50 [00:17<00:00,  2.82it/s]\n"
          ]
        },
        {
          "output_type": "stream",
          "name": "stdout",
          "text": [
            "\n",
            "Epoch: 73, train loss: 3.0610, val loss: 3.0866\n"
          ]
        },
        {
          "output_type": "stream",
          "name": "stderr",
          "text": [
            "100%|██████████| 50/50 [00:16<00:00,  3.02it/s]\n"
          ]
        },
        {
          "output_type": "stream",
          "name": "stdout",
          "text": [
            "\n",
            "Epoch: 74, train loss: 3.0603, val loss: 3.0404\n"
          ]
        },
        {
          "output_type": "stream",
          "name": "stderr",
          "text": [
            "100%|██████████| 50/50 [00:17<00:00,  2.83it/s]\n"
          ]
        },
        {
          "output_type": "stream",
          "name": "stdout",
          "text": [
            "\n",
            "Epoch: 75, train loss: 3.0219, val loss: 3.0814\n"
          ]
        },
        {
          "output_type": "stream",
          "name": "stderr",
          "text": [
            "100%|██████████| 50/50 [00:17<00:00,  2.82it/s]\n"
          ]
        },
        {
          "output_type": "stream",
          "name": "stdout",
          "text": [
            "\n",
            "Epoch: 76, train loss: 3.0186, val loss: 3.0117\n"
          ]
        },
        {
          "output_type": "stream",
          "name": "stderr",
          "text": [
            "100%|██████████| 50/50 [00:17<00:00,  2.79it/s]\n"
          ]
        },
        {
          "output_type": "stream",
          "name": "stdout",
          "text": [
            "\n",
            "Epoch: 77, train loss: 3.0405, val loss: 2.9034\n"
          ]
        },
        {
          "output_type": "stream",
          "name": "stderr",
          "text": [
            "100%|██████████| 50/50 [00:16<00:00,  2.98it/s]\n"
          ]
        },
        {
          "output_type": "stream",
          "name": "stdout",
          "text": [
            "\n",
            "Epoch: 78, train loss: 3.0279, val loss: 2.9182\n"
          ]
        },
        {
          "output_type": "stream",
          "name": "stderr",
          "text": [
            "100%|██████████| 50/50 [00:17<00:00,  2.86it/s]\n"
          ]
        },
        {
          "output_type": "stream",
          "name": "stdout",
          "text": [
            "\n",
            "Epoch: 79, train loss: 3.0400, val loss: 3.0562\n"
          ]
        },
        {
          "output_type": "stream",
          "name": "stderr",
          "text": [
            "100%|██████████| 50/50 [00:18<00:00,  2.76it/s]\n"
          ]
        },
        {
          "output_type": "stream",
          "name": "stdout",
          "text": [
            "\n",
            "Epoch: 80, train loss: 2.9939, val loss: 2.9640\n"
          ]
        },
        {
          "output_type": "stream",
          "name": "stderr",
          "text": [
            "100%|██████████| 50/50 [00:15<00:00,  3.21it/s]\n"
          ]
        },
        {
          "output_type": "stream",
          "name": "stdout",
          "text": [
            "\n",
            "Epoch: 81, train loss: 2.9852, val loss: 2.9628\n"
          ]
        },
        {
          "output_type": "stream",
          "name": "stderr",
          "text": [
            "100%|██████████| 50/50 [00:17<00:00,  2.83it/s]\n"
          ]
        },
        {
          "output_type": "stream",
          "name": "stdout",
          "text": [
            "\n",
            "Epoch: 82, train loss: 3.0294, val loss: 3.0075\n"
          ]
        },
        {
          "output_type": "stream",
          "name": "stderr",
          "text": [
            "100%|██████████| 50/50 [00:18<00:00,  2.69it/s]\n"
          ]
        },
        {
          "output_type": "stream",
          "name": "stdout",
          "text": [
            "\n",
            "Epoch: 83, train loss: 2.9903, val loss: 2.9156\n"
          ]
        },
        {
          "output_type": "stream",
          "name": "stderr",
          "text": [
            "100%|██████████| 50/50 [00:16<00:00,  2.95it/s]\n"
          ]
        },
        {
          "output_type": "stream",
          "name": "stdout",
          "text": [
            "\n",
            "Epoch: 84, train loss: 2.9817, val loss: 2.9228\n"
          ]
        },
        {
          "output_type": "stream",
          "name": "stderr",
          "text": [
            "100%|██████████| 50/50 [00:16<00:00,  3.05it/s]\n"
          ]
        },
        {
          "output_type": "stream",
          "name": "stdout",
          "text": [
            "\n",
            "Epoch: 85, train loss: 2.9345, val loss: 2.9695\n"
          ]
        },
        {
          "output_type": "stream",
          "name": "stderr",
          "text": [
            "100%|██████████| 50/50 [00:18<00:00,  2.65it/s]\n"
          ]
        },
        {
          "output_type": "stream",
          "name": "stdout",
          "text": [
            "\n",
            "Epoch: 86, train loss: 2.9635, val loss: 2.8988\n"
          ]
        },
        {
          "output_type": "stream",
          "name": "stderr",
          "text": [
            "100%|██████████| 50/50 [00:17<00:00,  2.87it/s]\n"
          ]
        },
        {
          "output_type": "stream",
          "name": "stdout",
          "text": [
            "\n",
            "Epoch: 87, train loss: 2.9962, val loss: 2.9293\n"
          ]
        },
        {
          "output_type": "stream",
          "name": "stderr",
          "text": [
            "100%|██████████| 50/50 [00:16<00:00,  2.95it/s]\n"
          ]
        },
        {
          "output_type": "stream",
          "name": "stdout",
          "text": [
            "\n",
            "Epoch: 88, train loss: 2.9933, val loss: 2.9411\n"
          ]
        },
        {
          "output_type": "stream",
          "name": "stderr",
          "text": [
            "100%|██████████| 50/50 [00:18<00:00,  2.66it/s]\n"
          ]
        },
        {
          "output_type": "stream",
          "name": "stdout",
          "text": [
            "\n",
            "Epoch: 89, train loss: 2.9447, val loss: 2.8988\n"
          ]
        },
        {
          "output_type": "stream",
          "name": "stderr",
          "text": [
            "100%|██████████| 50/50 [00:17<00:00,  2.89it/s]\n"
          ]
        },
        {
          "output_type": "stream",
          "name": "stdout",
          "text": [
            "\n",
            "Epoch: 90, train loss: 2.9423, val loss: 3.0106\n"
          ]
        },
        {
          "output_type": "stream",
          "name": "stderr",
          "text": [
            "100%|██████████| 50/50 [00:16<00:00,  3.04it/s]\n"
          ]
        },
        {
          "output_type": "stream",
          "name": "stdout",
          "text": [
            "\n",
            "Epoch: 91, train loss: 2.9225, val loss: 2.9216\n"
          ]
        },
        {
          "output_type": "stream",
          "name": "stderr",
          "text": [
            "100%|██████████| 50/50 [00:17<00:00,  2.89it/s]\n"
          ]
        },
        {
          "output_type": "stream",
          "name": "stdout",
          "text": [
            "\n",
            "Epoch: 92, train loss: 2.9701, val loss: 2.8731\n"
          ]
        },
        {
          "output_type": "stream",
          "name": "stderr",
          "text": [
            "100%|██████████| 50/50 [00:17<00:00,  2.87it/s]\n"
          ]
        },
        {
          "output_type": "stream",
          "name": "stdout",
          "text": [
            "\n",
            "Epoch: 93, train loss: 2.9270, val loss: 3.0059\n"
          ]
        },
        {
          "output_type": "stream",
          "name": "stderr",
          "text": [
            "100%|██████████| 50/50 [00:17<00:00,  2.88it/s]\n"
          ]
        },
        {
          "output_type": "stream",
          "name": "stdout",
          "text": [
            "\n",
            "Epoch: 94, train loss: 2.9462, val loss: 2.9737\n"
          ]
        },
        {
          "output_type": "stream",
          "name": "stderr",
          "text": [
            "100%|██████████| 50/50 [00:17<00:00,  2.79it/s]\n"
          ]
        },
        {
          "output_type": "stream",
          "name": "stdout",
          "text": [
            "\n",
            "Epoch: 95, train loss: 2.9308, val loss: 2.8797\n"
          ]
        },
        {
          "output_type": "stream",
          "name": "stderr",
          "text": [
            "100%|██████████| 50/50 [00:17<00:00,  2.89it/s]\n"
          ]
        },
        {
          "output_type": "stream",
          "name": "stdout",
          "text": [
            "\n",
            "Epoch: 96, train loss: 2.9341, val loss: 2.9125\n"
          ]
        },
        {
          "output_type": "stream",
          "name": "stderr",
          "text": [
            "100%|██████████| 50/50 [00:17<00:00,  2.80it/s]\n"
          ]
        },
        {
          "output_type": "stream",
          "name": "stdout",
          "text": [
            "\n",
            "Epoch: 97, train loss: 2.9071, val loss: 2.8994\n"
          ]
        },
        {
          "output_type": "stream",
          "name": "stderr",
          "text": [
            "100%|██████████| 50/50 [00:17<00:00,  2.80it/s]\n"
          ]
        },
        {
          "output_type": "stream",
          "name": "stdout",
          "text": [
            "\n",
            "Epoch: 98, train loss: 2.9419, val loss: 2.8628\n"
          ]
        },
        {
          "output_type": "stream",
          "name": "stderr",
          "text": [
            "100%|██████████| 50/50 [00:16<00:00,  3.12it/s]\n"
          ]
        },
        {
          "output_type": "stream",
          "name": "stdout",
          "text": [
            "\n",
            "Epoch: 99, train loss: 2.9265, val loss: 2.9045\n",
            "Finished!\n"
          ]
        }
      ]
    },
    {
      "cell_type": "markdown",
      "source": [
        "**4. Применяем обученную модель**"
      ],
      "metadata": {
        "id": "t6dD4wPMj00j"
      }
    },
    {
      "cell_type": "code",
      "source": [
        "from beheaded_inception3 import beheaded_inception_v3\n",
        "inception = beheaded_inception_v3().train(False)"
      ],
      "metadata": {
        "colab": {
          "base_uri": "https://localhost:8080/"
        },
        "id": "w7CEgltWhnKn",
        "outputId": "4b733b90-aae4-4af7-9cd6-fbb7b7121340"
      },
      "execution_count": 28,
      "outputs": [
        {
          "output_type": "stream",
          "name": "stderr",
          "text": [
            "/usr/local/lib/python3.12/dist-packages/torchvision/models/inception.py:43: FutureWarning: The default weight initialization of inception_v3 will be changed in future releases of torchvision. If you wish to keep the old behavior (which leads to long initialization times due to scipy/scipy#11299), please set init_weights=True.\n",
            "  warnings.warn(\n"
          ]
        },
        {
          "output_type": "stream",
          "name": "stdout",
          "text": [
            "Downloading: \"https://download.pytorch.org/models/inception_v3_google-1a9a5a14.pth\" to /root/.cache/torch/hub/checkpoints/inception_v3_google-1a9a5a14.pth\n"
          ]
        },
        {
          "output_type": "stream",
          "name": "stderr",
          "text": [
            "100%|██████████| 104M/104M [00:00<00:00, 218MB/s] \n"
          ]
        }
      ]
    },
    {
      "cell_type": "markdown",
      "source": [
        "Генерируем подписи"
      ],
      "metadata": {
        "id": "eP-wVdXij5GE"
      }
    },
    {
      "cell_type": "code",
      "source": [
        "def generate_caption(image, caption_prefix=(\"#START#\",),\n",
        "                     t=1, sample=True, max_len=100):\n",
        "    assert isinstance(image, np.ndarray) and np.max(image) <= 1\\\n",
        "           and np.min(image) >=0 and image.shape[-1] == 3\n",
        "\n",
        "    with torch.no_grad():\n",
        "        image = torch.tensor(image.transpose([2, 0, 1]), dtype=torch.float32)\n",
        "\n",
        "        vectors_8x8, vectors_neck, logits = inception(image[None])\n",
        "        caption_prefix = list(caption_prefix)\n",
        "\n",
        "        for _ in range(max_len):\n",
        "\n",
        "            prefix_ix = as_matrix([caption_prefix])\n",
        "            prefix_ix = torch.tensor(prefix_ix, dtype=torch.int64)\n",
        "            next_word_logits = network.forward(vectors_neck, prefix_ix)[0, -1]\n",
        "            next_word_probs = F.softmax(next_word_logits, dim=-1).data.numpy()\n",
        "\n",
        "            assert len(next_word_probs.shape) ==1, 'probs must be one-dimensional'\n",
        "            next_word_probs = next_word_probs ** t / np.sum(next_word_probs ** t) # apply temperature\n",
        "\n",
        "            if sample:\n",
        "                next_word = np.random.choice(vocab, p=next_word_probs)\n",
        "            else:\n",
        "                next_word = vocab[np.argmax(next_word_probs)]\n",
        "\n",
        "            caption_prefix.append(next_word)\n",
        "\n",
        "            if next_word == \"#END#\":\n",
        "                break\n",
        "\n",
        "    return caption_prefix"
      ],
      "metadata": {
        "id": "3GxgsTujj3QK"
      },
      "execution_count": 29,
      "outputs": []
    },
    {
      "cell_type": "code",
      "source": [
        "from matplotlib import pyplot as plt\n",
        "from PIL import Image\n",
        "import numpy as numpy\n",
        "%matplotlib inline\n",
        "\n",
        "# Скачиваем изображение\n",
        "!wget https://pixel.nymag.com/imgs/daily/selectall/2018/02/12/12-tony-hawk.w710.h473.jpg -O data/img.jpg\n",
        "\n",
        "# Загружаем и изменяем размер\n",
        "img_pil = Image.open('data/img.jpg').convert('RGB')\n",
        "img_resized = img_pil.resize((299, 299))  # (width, height)\n",
        "img = np.array(img_resized).astype('float32') / 255.0"
      ],
      "metadata": {
        "colab": {
          "base_uri": "https://localhost:8080/"
        },
        "id": "4nC4bOKrj6hq",
        "outputId": "71cd83d8-d82c-4cfd-84c9-3763aaecc178"
      },
      "execution_count": 30,
      "outputs": [
        {
          "output_type": "stream",
          "name": "stdout",
          "text": [
            "--2025-10-29 20:50:12--  https://pixel.nymag.com/imgs/daily/selectall/2018/02/12/12-tony-hawk.w710.h473.jpg\n",
            "Resolving pixel.nymag.com (pixel.nymag.com)... 199.232.193.246, 199.232.197.246\n",
            "Connecting to pixel.nymag.com (pixel.nymag.com)|199.232.193.246|:443... connected.\n",
            "HTTP request sent, awaiting response... 301 Moved Permanently\n",
            "Location: https://pyxis.nymag.com/v1/imgs/6ac/2a6/b48d3a180f333298f5bee60ff80f4ba886-12-tony-hawk.h473.w710.jpg [following]\n",
            "--2025-10-29 20:50:13--  https://pyxis.nymag.com/v1/imgs/6ac/2a6/b48d3a180f333298f5bee60ff80f4ba886-12-tony-hawk.h473.w710.jpg\n",
            "Resolving pyxis.nymag.com (pyxis.nymag.com)... 199.232.193.246, 199.232.197.246\n",
            "Connecting to pyxis.nymag.com (pyxis.nymag.com)|199.232.193.246|:443... connected.\n",
            "HTTP request sent, awaiting response... 200 OK\n",
            "Length: 54731 (53K) [image/jpeg]\n",
            "Saving to: ‘data/img.jpg’\n",
            "\n",
            "\rdata/img.jpg          0%[                    ]       0  --.-KB/s               \rdata/img.jpg        100%[===================>]  53.45K  --.-KB/s    in 0.008s  \n",
            "\n",
            "2025-10-29 20:50:13 (6.36 MB/s) - ‘data/img.jpg’ saved [54731/54731]\n",
            "\n"
          ]
        }
      ]
    },
    {
      "cell_type": "code",
      "source": [
        "plt.imshow(img)"
      ],
      "metadata": {
        "colab": {
          "base_uri": "https://localhost:8080/",
          "height": 452
        },
        "id": "TAxXgJxGj7-i",
        "outputId": "de8b5aee-b3f4-4da6-febd-ffd417a62936"
      },
      "execution_count": 31,
      "outputs": [
        {
          "output_type": "execute_result",
          "data": {
            "text/plain": [
              "<matplotlib.image.AxesImage at 0x796d29b4d910>"
            ]
          },
          "metadata": {},
          "execution_count": 31
        },
        {
          "output_type": "display_data",
          "data": {
            "text/plain": [
              "<Figure size 640x480 with 1 Axes>"
            ],
            "image/png": "[encoded data removed]"
          },
          "metadata": {}
        }
      ]
    },
    {
      "cell_type": "code",
      "source": [
        "for i in range(10):\n",
        "    print(' '.join(generate_caption(img, t=5.)[1:-1]))"
      ],
      "metadata": {
        "colab": {
          "base_uri": "https://localhost:8080/"
        },
        "id": "c-D08ONBj-D_",
        "outputId": "28e0f72c-a08f-4974-9198-361e9898dd2f"
      },
      "execution_count": 32,
      "outputs": [
        {
          "output_type": "stream",
          "name": "stdout",
          "text": [
            "a man riding a skateboard on a skateboard .\n",
            "a man is riding a skateboard on a skateboard .\n",
            "a man riding a skateboard on a skateboard .\n",
            "a man riding a skateboard on a skateboard .\n",
            "a man in a skate park doing a trick on a skateboard .\n",
            "a man in a skate board riding a skateboard on a skateboard .\n",
            "a man riding a skateboard on a skateboard .\n",
            "a man riding a skateboard on a skateboard .\n",
            "a person on a skateboard on a skateboard .\n",
            "a man riding a skateboard on a skateboard .\n"
          ]
        }
      ]
    },
    {
      "cell_type": "code",
      "source": [],
      "metadata": {
        "id": "Px9Ae-kroOAU"
      },
      "execution_count": null,
      "outputs": []
    }
  ]
}